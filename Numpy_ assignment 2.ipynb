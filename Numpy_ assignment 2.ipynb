{
 "cells": [
  {
   "cell_type": "code",
   "execution_count": 29,
   "id": "9ea439d6",
   "metadata": {},
   "outputs": [],
   "source": [
    "import numpy as np"
   ]
  },
  {
   "cell_type": "code",
   "execution_count": 30,
   "id": "943ca9f1",
   "metadata": {},
   "outputs": [
    {
     "name": "stdout",
     "output_type": "stream",
     "text": [
      "[6 7 0 1 4]\n"
     ]
    }
   ],
   "source": [
    "# 1. Cretion of a vector of length 5 filled with arbitrary numbers from 0 to 10.\n",
    "\n",
    "vector = np.random.randint(0,11,5)\n",
    "print(vector)"
   ]
  },
  {
   "cell_type": "code",
   "execution_count": 31,
   "id": "20d27fc4",
   "metadata": {},
   "outputs": [
    {
     "name": "stdout",
     "output_type": "stream",
     "text": [
      "[16 17 18 19 20 21 22 23 24 25 26 27 28 29 30 31 32 33 34 35 36 37 38 39\n",
      " 40 41 42 43 44 45 46 47 48 49 50 51 52 53 54]\n"
     ]
    }
   ],
   "source": [
    "# 2. Writing of numpy program to create a vector of values ranging from 15 to 55 and printing\n",
    "#     all values except the first and the last.\n",
    "\n",
    "vector2 = np.arange(15,56)\n",
    "print(vector2[1:-1])"
   ]
  },
  {
   "cell_type": "code",
   "execution_count": 32,
   "id": "2265738a",
   "metadata": {},
   "outputs": [
    {
     "name": "stdout",
     "output_type": "stream",
     "text": [
      "[43 93 24 87 25 58 51 82 70 68 78 73 84 22 80 85 70 79  6 49 61 93 67 85\n",
      " 64 77 68 60 43 69 95 27 22  1 13 45 10 20  1 95 64 25 47 24 36 82 24 78\n",
      " 24 95 56 16 13 10 24 21 38 63 46 22 69 32 60 50 61 73 67 74  3 26  2 72\n",
      " 62 13 57 18 70 76 75 68  5 32 10 47 71 79 43 92 54 34 74 83 17 64 38 50\n",
      " 48 46 34 73 82 31 57 14 56 67 28 73 82 21 27 88 99 90 94 71 24 11 30 74\n",
      " 42 72  9 45 48 93 36 80 20 64 42 45 58 99 81 89 97 41 53 54 87 10 81  2\n",
      " 42 34 73 59  4 97 43 56 87 27 61 45 54 81 76 58 50 41 87 31 48 81 27 35\n",
      " 26 33 17  7 22 24  4 94 27 33  3 85 77 57 74 20 14 99 95  8 43 46 46  1\n",
      " 51 69 18 56 38 78 58 16 98 15 47 77 41 56 87 81 51 52  6 16 82 77 86 74\n",
      " 56  2 70 49 59 78 89 68 37 22 63 50 53 19 57 65 71 72 26 53 49 80  5  6\n",
      " 18 89 12 73 88 47 95 54 83 55 99 33 48  1 22 23 31 98 13 59 59 74 99 12\n",
      "  1 65 48  6 21 49 65 90 80 41 75  1 42 70 78 66  1 70 69  5  8 48 25 98\n",
      " 53 76 52 18  9 91 73 79 90 83 72 72 12 27 97 93 19  9 10 43 42 63  9 19\n",
      " 83 81 81 10 88 14 56 28 94 36 68 45 58 53 15  6 28 10 85 28 77 34 60 21\n",
      " 70 34 62 19 10  4 22 11 32 32 22 25 95  4  2 43 31 73 90  7 12 79 20 29\n",
      " 22  6 74 38 68  4 26 97 78 40 38 75 34 37 43 25 28 94 88 89 96 24 91 38\n",
      " 31 40 33 51 50  2  7 43 31 21 33  1 32 90 12 67 23 71 38 38 22 83 55 23\n",
      " 82 41 39 98 84 41 66  8 46 77 48 15 28 52 81 49 26 68 19 80 92 28 67 93\n",
      " 99 85 78 27  8 64 24 35 19 59 58 91 60 74 36 94  7 53 25 44 46 56 12 68\n",
      " 74 60 83 48  1 95 81 58  8 28 91 74 77 64 60 23 61 16 55 42 93 83 35 31\n",
      " 51 31 34  5 84 32 46 38 29 94 19 21 23 82  2 56 70  5 28 33 41 12 70 24\n",
      " 13 46 65 23 42 50 12 83 99 65 97 93 76 63 37 67 69 97 42 20 90 21 73  4\n",
      " 58 10 42 76 89 29 14 46 23 76 83 23 43  4  3 40 53 29 28 57 36 17 30 71\n",
      " 57 75 48 32 51 98 74 74 27 95 92  2 61 31 62 69 65 34 64 52 99 44 84 71\n",
      " 92  3 75 33 58 63  3 23 58 60  7 93  6 63 68 84 13 39 63 29 88 80 36 13\n",
      "  3 60 72 88 46 75 42 69 72 60 54 85 42 20 25 70 80 50 66 62 34 18 88 44\n",
      " 14 60  1 83 24 56 18 98 38 60 15 25 89 48 34 57 68 43 36 24 90 28  4 59\n",
      " 45 21 54 73 96 21 14 15 69 30 45 50 54 96  4 54 30 93 36 75 68 41 87 63\n",
      " 50 61 76  1 34  4 30 33 38 82  2 16 19 73 18 71 47 89 68 49 23 70 79 82\n",
      "  2 78 77 71 38 99 81  3 61 64 22 95 88 33 43 31 97 24 16 86 28 43 38 71\n",
      "  7 41 50 93 21 24 34 39 19 44 39 50 11 75 27 38 51 40 48 45  1 58 91 53\n",
      " 45 87 89 15 35 34 65 32 41 50 67 66 46 27 35 51  2 90  1 77 49 75 43  2\n",
      " 17 52 49 57 55 29 84 51 93 94 92 13 62 86 99 78 25 37 92 63 93 38 80 96\n",
      " 35 12 51 70 46 80 13 33 17 51 39 57 84 29 57 83 71 73 71 22 48 73 97 40\n",
      "  6 91 55 33 10 68 38 99 49 71 85 93 61 89 72 52  2 87 91 86  2 46 88 82\n",
      " 44 20 80 12 57 33 91 37 16 61 33 31 44 64 98 39 70  7 36 89 35 37 79 77\n",
      " 97 95 53 61 24 90 29 16 86 86 12 57 49 24 23 45 30 27 30  1 18 47 25 59\n",
      "  3  6 26 49 40 60 97  5 70 77 61 47  9 45 31 57 79 52 70  6 89 25 74 41\n",
      " 53 29 34  9 94 29 79  1 17 44 71 71 74 62 17 96 57 25 89 77 13 91 27 81\n",
      " 82 81 91 13  9 65 29 42 87 32 72 17 85 96 85 11 90 63 12 27 57 26 43 47\n",
      " 53  4 76 73 27 33 95 99 32 97 44  7 26 96 58 10 39  5 16 66 75 61 78 69\n",
      " 42 18 63 64 37 86 83 76 33 39 92  3 97 76 37  8]\n"
     ]
    }
   ],
   "source": [
    "# 3.a Writing of numpy program to create a random array with 1000 elements. \n",
    "\n",
    "arr1 = np.random.randint(1,100,1000)\n",
    "print(arr1)"
   ]
  },
  {
   "cell_type": "code",
   "execution_count": 33,
   "id": "2ba7587c",
   "metadata": {},
   "outputs": [
    {
     "name": "stdout",
     "output_type": "stream",
     "text": [
      "Average\n",
      " 50.224\n",
      "Variance\n",
      " 792.155824\n",
      "Standard Deviation\n",
      " 28.145262905149778\n"
     ]
    }
   ],
   "source": [
    "# 3.b Computing  the average, variance and standard deviation of the array elements.\n",
    "\n",
    "avg = np.average(arr1)\n",
    "print('Average\\n', avg)\n",
    "\n",
    "variance = np.var(arr1)\n",
    "print('Variance\\n', variance)\n",
    "\n",
    "deviation = np.std(arr1)\n",
    "print('Standard Deviation\\n',deviation)"
   ]
  },
  {
   "cell_type": "code",
   "execution_count": 34,
   "id": "31f60748",
   "metadata": {},
   "outputs": [
    {
     "name": "stdout",
     "output_type": "stream",
     "text": [
      "[[1 2 3]\n",
      " [5 4 6]\n",
      " [9 8 7]]\n"
     ]
    }
   ],
   "source": [
    "# 4.a. A python program to calculate a cummulative sum of elements along a given axis,\n",
    "#    Creation of 3x3 array.\n",
    "\n",
    "arr = np.array([[1,2,3],[5,4,6],[9,8,7]])\n",
    "print(arr)"
   ]
  },
  {
   "cell_type": "code",
   "execution_count": 35,
   "id": "1b232fe1",
   "metadata": {},
   "outputs": [
    {
     "name": "stdout",
     "output_type": "stream",
     "text": [
      "Sum over rows\n",
      " [[ 1  2  3]\n",
      " [ 6  6  9]\n",
      " [15 14 16]]\n"
     ]
    }
   ],
   "source": [
    "# 4.b. Sum over rows for each of the 3 columns.\n",
    "\n",
    "sum_rows = np.cumsum(arr, axis = 0)\n",
    "print('Sum over rows\\n',sum_rows)"
   ]
  },
  {
   "cell_type": "code",
   "execution_count": 36,
   "id": "3ae49780",
   "metadata": {},
   "outputs": [
    {
     "name": "stdout",
     "output_type": "stream",
     "text": [
      "Sum over columns\n",
      " [[ 1  3  6]\n",
      " [ 5  9 15]\n",
      " [ 9 17 24]]\n"
     ]
    }
   ],
   "source": [
    "# 4.c  Sum over columns for each of the 3 rows.\n",
    "sum_cols = np.cumsum(arr, axis = 1)\n",
    "print('Sum over columns\\n', sum_cols)"
   ]
  },
  {
   "cell_type": "code",
   "execution_count": 37,
   "id": "995b32f7",
   "metadata": {},
   "outputs": [
    {
     "name": "stdout",
     "output_type": "stream",
     "text": [
      "[[ 71 110]\n",
      " [ 22  34]]\n"
     ]
    }
   ],
   "source": [
    "# 5. Numpy program to compute the multiplication of two matrixes.\n",
    "\n",
    "mat1 = np.array([[9,7],[3,2]])\n",
    "mat2 = np.array([[4,6],[5,8]])\n",
    "product = np.dot(mat1,mat2)\n",
    "print(product)"
   ]
  }
 ],
 "metadata": {
  "kernelspec": {
   "display_name": "Python 3 (ipykernel)",
   "language": "python",
   "name": "python3"
  },
  "language_info": {
   "codemirror_mode": {
    "name": "ipython",
    "version": 3
   },
   "file_extension": ".py",
   "mimetype": "text/x-python",
   "name": "python",
   "nbconvert_exporter": "python",
   "pygments_lexer": "ipython3",
   "version": "3.9.13"
  }
 },
 "nbformat": 4,
 "nbformat_minor": 5
}
